{
 "cells": [
  {
   "cell_type": "markdown",
   "id": "0e0dadae",
   "metadata": {},
   "source": [
    "# Patient trial matching"
   ]
  },
  {
   "cell_type": "code",
   "execution_count": 1,
   "id": "3bd6e561",
   "metadata": {},
   "outputs": [
    {
     "data": {
      "text/plain": [
       "'/home/mgustineli/github/llm-drug-discovery'"
      ]
     },
     "execution_count": 1,
     "metadata": {},
     "output_type": "execute_result"
    }
   ],
   "source": [
    "import os\n",
    "from pathlib import Path\n",
    "\n",
    "\n",
    "# Get project directory\n",
    "def get_project_dir():\n",
    "    root = Path(os.path.expanduser(\"~\"))\n",
    "    return f\"{root}/github/llm-drug-discovery\"\n",
    "\n",
    "\n",
    "project_dir = get_project_dir()\n",
    "project_dir"
   ]
  },
  {
   "cell_type": "code",
   "execution_count": null,
   "id": "a34a2c46",
   "metadata": {},
   "outputs": [],
   "source": [
    "from pathlib import Path\n",
    "import json\n",
    "import numpy as np\n",
    "import pandas as pd\n",
    "import matplotlib.pyplot as plt\n",
    "from sklearn.feature_extraction.text import TfidfVectorizer\n",
    "from sklearn.metrics.pairwise import cosine_similarity\n",
    "\n",
    "PROJECT_DIR = Path.home() / \"github\" / \"llm-drug-discovery\"\n",
    "DATA_DIR = PROJECT_DIR / \"data\"\n",
    "PLOTS_DIR = PROJECT_DIR / \"plots\"\n",
    "PLOTS_DIR.mkdir(parents=True, exist_ok=True)"
   ]
  },
  {
   "cell_type": "code",
   "execution_count": null,
   "metadata": {},
   "outputs": [],
   "source": [
    "def load_json(path: Path):\n",
    "    return json.loads(path.read_text())\n",
    "\n",
    "\n",
    "# Simple text formatter for patients\n",
    "def patient_to_text(p):\n",
    "    d = p[\"demographics\"]\n",
    "    hist = p[\"medical_history\"]\n",
    "    return f\"{d}. {hist}\"\n",
    "\n",
    "\n",
    "# Simple text formatter for trials\n",
    "def trial_to_text(t):\n",
    "    c = t[\"eligibility_criteria\"]\n",
    "    parts = [\n",
    "        f\"Age between {c['age_min']} and {c['age_max']} years\",\n",
    "        f\"Ejection fraction between {c['ef_min']}% and {c['ef_max']}%\",\n",
    "        f\"Serum creatinine between {c['creatinine_min']} and {c['creatinine_max']} mg/dL\",\n",
    "        f\"Serum sodium between {c['sodium_min']} and {c['sodium_max']} mEq/L\",\n",
    "    ]\n",
    "    # Add binary criteria\n",
    "    for key, label in [\n",
    "        (\"anaemia\", \"anaemia\"),\n",
    "        (\"diabetes\", \"diabetes\"),\n",
    "        (\"high_blood_pressure\", \"high blood pressure\"),\n",
    "        (\"smoking\", \"smoking\"),\n",
    "    ]:\n",
    "        if c.get(key) is not None:\n",
    "            parts.append(f\"{'With' if c[key] == 1 else 'Without'} {label}\")\n",
    "    # Add sex criterion\n",
    "    if c.get(\"sex\") is not None:\n",
    "        parts.append(\"Male patients only\" if c[\"sex\"] == 1 else \"Female patients only\")\n",
    "    return f\"{t['name']}: \" + \". \".join(parts)\n",
    "\n",
    "\n",
    "# Match patients to trials by TF-IDF threshold\n",
    "def match_by_tfidf(patient_texts, trial_texts, threshold=0.1):\n",
    "    vect = TfidfVectorizer(max_features=2000, ngram_range=(1, 2))\n",
    "    all_texts = patient_texts + trial_texts\n",
    "    vect.fit(all_texts)\n",
    "    P = vect.transform(patient_texts)\n",
    "    T = vect.transform(trial_texts)\n",
    "    sims = cosine_similarity(T, P)  # trials x patients\n",
    "    matches = {\n",
    "        i: np.where(sims[i] >= threshold)[0].tolist() for i in range(len(trial_texts))\n",
    "    }\n",
    "    return matches, sims\n",
    "\n",
    "\n",
    "# Evaluate predictions\n",
    "def evaluate(preds, actual):\n",
    "    tp = len(set(preds) & set(actual))\n",
    "    fp = len(set(preds) - set(actual))\n",
    "    fn = len(set(actual) - set(preds))\n",
    "    precision = tp / (tp + fp) if tp + fp else 0\n",
    "    recall = tp / (tp + fn) if tp + fn else 1\n",
    "    f1 = 2 * precision * recall / (precision + recall) if precision + recall else 0\n",
    "    return precision, recall, f1\n",
    "\n",
    "\n",
    "# Plot performance vs threshold\n",
    "def plot_metrics(results, out_path):\n",
    "    df = pd.DataFrame(results)\n",
    "    plt.figure()\n",
    "    plt.plot(df[\"threshold\"], df[\"f1\"], marker=\"o\")\n",
    "    plt.xlabel(\"Threshold\")\n",
    "    plt.ylabel(\"F1\")\n",
    "    plt.title(\"Threshold vs F1\")\n",
    "    plt.grid(True)\n",
    "    plt.savefig(out_path)\n",
    "    plt.close()"
   ]
  },
  {
   "cell_type": "code",
   "execution_count": 15,
   "id": "2e12d89a",
   "metadata": {},
   "outputs": [
    {
     "name": "stdout",
     "output_type": "stream",
     "text": [
      "Best threshold: 0.05\n"
     ]
    },
    {
     "data": {
      "image/png": "[encoded data removed]",
      "text/plain": [
       "<Figure size 1000x600 with 1 Axes>"
      ]
     },
     "metadata": {},
     "output_type": "display_data"
    }
   ],
   "source": [
    "# Load data\n",
    "patients = load_json(DATA_DIR / \"test_patients.json\")\n",
    "trials = load_json(DATA_DIR / \"test_trials.json\")\n",
    "\n",
    "# Prepare texts and actual eligible lists\n",
    "pt_texts = [patient_to_text(p) for p in patients]\n",
    "tr_texts = [trial_to_text(t) for t in trials]\n",
    "actual = {i: t[\"eligible_patients\"] for i, t in enumerate(trials)}\n",
    "\n",
    "# Search optimal threshold on test set\n",
    "thresholds = np.linspace(0.05, 0.3, 6)\n",
    "results = []\n",
    "for thr in thresholds:\n",
    "    matches, _ = match_by_tfidf(pt_texts, tr_texts, threshold=thr)\n",
    "    metrics = [evaluate(matches[i], actual[i]) for i in actual]\n",
    "    precisions, recalls, f1s = zip(*metrics)\n",
    "    results.append(\n",
    "        {\n",
    "            \"threshold\": thr,\n",
    "            \"precision\": np.mean(precisions),\n",
    "            \"recall\": np.mean(recalls),\n",
    "            \"f1\": np.mean(f1s),\n",
    "        }\n",
    "    )\n",
    "# Plot and choose best\n",
    "plot_metrics(results, PLOTS_DIR / \"threshold_vs_f1.png\")\n",
    "best = max(results, key=lambda x: x[\"f1\"])[\"threshold\"]\n",
    "print(f\"Best threshold: {best}\")\n",
    "\n",
    "# Final evaluation\n",
    "matches, sims = match_by_tfidf(pt_texts, tr_texts, threshold=best)\n",
    "eval_data = []\n",
    "for i in actual:\n",
    "    p, r, f = evaluate(matches[i], actual[i])\n",
    "    eval_data.append({\"trial\": trials[i][\"id\"], \"precision\": p, \"recall\": r, \"f1\": f})\n",
    "df_eval = pd.DataFrame(eval_data)\n",
    "df_eval.to_csv(DATA_DIR / \"matching_eval.csv\", index=False)\n",
    "\n",
    "# Bar plot of F1 per trial\n",
    "plt.figure(figsize=(10, 6))\n",
    "df_eval.set_index(\"trial\")[\"f1\"].plot(kind=\"bar\")\n",
    "plt.title(\"F1 by Trial\")\n",
    "plt.xlabel(\"Trial\")\n",
    "plt.ylabel(\"F1\")\n",
    "plt.tight_layout()\n",
    "plt.savefig(PLOTS_DIR / \"f1_by_trial.png\")"
   ]
  },
  {
   "cell_type": "code",
   "execution_count": null,
   "id": "716afd52",
   "metadata": {},
   "outputs": [],
   "source": []
  }
 ],
 "metadata": {
  "kernelspec": {
   "display_name": ".venv",
   "language": "python",
   "name": "python3"
  },
  "language_info": {
   "codemirror_mode": {
    "name": "ipython",
    "version": 3
   },
   "file_extension": ".py",
   "mimetype": "text/x-python",
   "name": "python",
   "nbconvert_exporter": "python",
   "pygments_lexer": "ipython3",
   "version": "3.10.12"
  }
 },
 "nbformat": 4,
 "nbformat_minor": 5
}
